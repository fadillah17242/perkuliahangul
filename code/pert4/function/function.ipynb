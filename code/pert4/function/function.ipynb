{
 "cells": [
  {
   "cell_type": "markdown",
   "id": "1b583895",
   "metadata": {},
   "source": [
    "Coding"
   ]
  },
  {
   "cell_type": "code",
   "execution_count": null,
   "id": "74dcc4a8",
   "metadata": {
    "vscode": {
     "languageId": "plaintext"
    }
   },
   "outputs": [],
   "source": []
  }
 ],
 "metadata": {
  "language_info": {
   "name": "python"
  }
 },
 "nbformat": 4,
 "nbformat_minor": 5
}
